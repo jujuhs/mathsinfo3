{
 "cells": [
  {
   "cell_type": "markdown",
   "metadata": {},
   "source": [
    "# Projet Maths-Info 3 Horsin Cattan\n",
    "\n",
    "## Projet Numérique : câble sous-marin\n"
   ]
  },
  {
   "cell_type": "markdown",
   "metadata": {},
   "source": [
    "### Questions théoriques\n",
    "\n",
    "1. La loi faibles des grands nombres montre que pour un très grand nombre d'expériences, la moyennes des résultats tend vers l'espérence de la variable aléatoire.\n",
    "\n",
    "\n",
    "\n",
    "2. On reprend les notations de l'énoncé. Quitte à réindicer les variables, on suppose que : <br> $\\exists 1 \\leq k<n$ , tel que on souhaite trouver la loi de Z sachant que $Y=({Z_{j1}},...,{Z_{jk}})$ <br>\n",
    "Ainsi, les composantes de Z sont les variables alétoires associés aux profondeurs inconnues, rangées par ordre croissant. <br>La loi conditionelle du vecteur des composantes de Z, connaissant les valeurs prises par les compososantes aux sites d'observation est donc, d'après le cours proba 4 une loi normale de moyenne m_z et de matrice de covariance CS_z, dont les formules sont fournies dans le cours:\n",
    "\n",
    "$$\n",
    "CS_{Z}=C_{Z}-C_{Z, Y} C_{Y}^{-1} C_{Y, Z}\n",
    "$$\n",
    "\n",
    "\n",
    "$$\n",
    "m_{Z| Y=y}=m_{Z}-C_{Z,Y} C_{Y}^{-1}\\left(Y-m_{Y}\\right)\n",
    "$$\n",
    "\n",
    "avec, en notant C la matrice de Covariance de la variable aléatoire T=(Z,Y):\n",
    "\n",
    "$$\n",
    "C=\\left(\\begin{array}{ll}\n",
    "{C_{Z}} & {C_{Z,Y}} \\\\\n",
    "{C_{Y,Z}} & {C_{Y}}\n",
    "\\end{array}\\right)\n",
    "$$\n",
    "\n",
    "\n",
    "\n",
    "\n",
    "\n",
    "\n",
    "\n",
    "3. Si Y est un vecteur de composantes gausiennes indépendantes, toutes d'espérance nulle et de variance 1, alors \n",
    "le vecteur Z tel Z=m+RY est un vecteur gaussien, d'espérence m et de matrice de Covariance R. (résulatat du cours proba 5).\n",
    "\n",
    "\n",
    "\n",
    "4. Ainsi, pour effectuer une simulation conditionnelle, on va utiliser le module random, et plus particulièrement la méthode random.random(), qui simule le résultat d'un variable aléatoire U suivant une loi unifome sur l'intervalle ouvert $]0,1[$ <br>Puis d'après le cours, à partir de cette variable aléatoire, on peut simuler une loi normale centrée reduite en posant $X=\\sqrt{-2ln(U)}$cos(2$\\pi$U).<br> On repéte l'opération N-k fois avec k le nombre de profondeurs observées, ce qui permet de créer un vecteur T, composés de N-k variables aléatoires indépendantes suivant des lois normales centrées réduites. On obtient ensuite le vecteur Z, resultat d'une simulation, qui contient les résultats des N-k profondeurs inconnues, en posant $Z=m_{z}+LT$ avec $m_{z}$ l'espérence conditonnelle de Z sachant Y, et L la décomposotion de Cholesky de la matrice de covariance conditionelle. (La démonstration des résultats se trouve dans le cours du chapitre proba 5.)\n",
    "\n",
    "\n"
   ]
  },
  {
   "cell_type": "code",
   "execution_count": 2,
   "metadata": {},
   "outputs": [],
   "source": [
    "###Implémentation\n",
    "\n",
    "#Chargement de dépendances\n",
    "import numpy as np\n",
    "import math\n",
    "import matplotlib.pyplot as plt\n",
    "import random as rd\n",
    "\n",
    "#Discrétisation\n",
    "A=0\n",
    "B=500\n",
    "N=101 #Nombre de points de discrétisayion\n",
    "Delta = (B-A)/(N-1)\n",
    "discretization_indexes=np.arange(N)\n",
    "discretization=discretization_indexes*Delta\n",
    "\n",
    "#Paramètres du modèle\n",
    "\n",
    "mu=-5\n",
    "a=50\n",
    "sigma2=12\n",
    "\n",
    "#Données\n",
    "\n",
    "observation_indexes= [0,20,40,60,80,100]\n",
    "depth=[0,-4,-12.8,-1,-6.5,0]\n",
    "\n",
    "unknown_indexes=list(set(discretization_indexes)-set(observation_indexes))"
   ]
  },
  {
   "cell_type": "markdown",
   "metadata": {},
   "source": [
    "## Questions"
   ]
  },
  {
   "cell_type": "code",
   "execution_count": 45,
   "metadata": {},
   "outputs": [],
   "source": [
    "###Question 1###\n",
    "#fonction utile pour le calcul de covariance\n",
    "\n",
    "def calcul_covariance(mat_distance):\n",
    "    return sigma2*np.exp(-mat_distance/a)\n",
    "\n",
    "#grâce au module numpy, on a une fonction pour les vecteurs et les scalaires"
   ]
  },
  {
   "cell_type": "code",
   "execution_count": 46,
   "metadata": {},
   "outputs": [
    {
     "name": "stdout",
     "output_type": "stream",
     "text": [
      "[[  0.   5.  10. ... 490. 495. 500.]\n",
      " [  5.   0.   5. ... 485. 490. 495.]\n",
      " [ 10.   5.   0. ... 480. 485. 490.]\n",
      " ...\n",
      " [490. 485. 480. ...   0.   5.  10.]\n",
      " [495. 490. 485. ...   5.   0.   5.]\n",
      " [500. 495. 490. ...  10.   5.   0.]]\n"
     ]
    }
   ],
   "source": [
    "###Question 2###\n",
    "#matrice des distances\n",
    "\n",
    "Mat_distance=np.zeros((N,N))\n",
    "for i in range(N):\n",
    "    for j in range(N):\n",
    "        Mat_distance[i][j]=np.abs(discretization[i]-discretization[j])\n",
    "\n",
    "        \n",
    "print(Mat_distance)\n",
    "#On remarque que la matrice est bien symétrique, réelle, positive."
   ]
  },
  {
   "cell_type": "code",
   "execution_count": 47,
   "metadata": {},
   "outputs": [],
   "source": [
    "###Question 3###\n",
    "#on applique notre fonction de calcul de la fonction C à la matrice des distances pour \n",
    "#avoir la matrice de covariance de Z\n",
    "\n",
    "Cov_Z=calcul_covariance(Mat_distance)"
   ]
  },
  {
   "cell_type": "code",
   "execution_count": 48,
   "metadata": {},
   "outputs": [],
   "source": [
    "###Question 4###\n",
    "#On déduit de la matrice précédente respectivement:\n",
    "k=len(observation_indexes)\n",
    "\n",
    "\n",
    "Cov_obs=np.zeros((k,k)) #la matrice de covariance entre les observations\n",
    "Cov_obs_unknown=np.zeros((N-k,k)) #la matrice de covariance entre les observations et les inconnues\n",
    "Cov_unknow=np.zeros((N-k,N-k)) #la matrice de covariance entre les inconnues\n",
    "\n",
    "#pour procéder, on regarde où se trouve chacun des indexs (dans les inconnues ou les observations)\n",
    "\n",
    "for i in range(k):\n",
    "    for j in range(k):\n",
    "        Cov_obs[i][j]=Cov_Z[observation_indexes[i]][observation_indexes[j]]\n",
    "\n",
    "for i in range(N-k):\n",
    "    for j in range(N-k):\n",
    "        Cov_unknow[i][j]=Cov_Z[unknown_indexes[i]][unknown_indexes[j]]\n",
    "\n",
    "for i in range(N-k):\n",
    "    for j in range(k):\n",
    "        Cov_obs_unknown[i][j]=Cov_Z[unknown_indexes[i]][observation_indexes[j]]\n"
   ]
  },
  {
   "cell_type": "code",
   "execution_count": 49,
   "metadata": {},
   "outputs": [],
   "source": [
    "###Question 5###\n",
    "#La variable alétoire conditionnelle est une gaussienne d'espérence conditonnelle notée m_z \n",
    "#On calcule m_z avec la formule du cours proba 4.\n",
    "\n",
    "m_z= np.full(N-k,mu) #vecteur de taille N-k, avec la valeur mu uniquement \n",
    "m_y= np.full(k,mu)\n",
    "Cov_obs_inv=np.linalg.inv(Cov_obs) #on doit inverser la matrice de covariance des observations\n",
    "y= np.asarray(depth) #résultats des observations\n",
    "#asarray permet de convertir la liste depth en un vecteur numpy, afin d'effectuer du calcul matriciel\n",
    "\n",
    "esp_cond = m_z + np.dot(np.dot(Cov_obs_unknown,Cov_obs_inv),y-m_y) #formule du cours\n",
    "\n"
   ]
  },
  {
   "cell_type": "code",
   "execution_count": 51,
   "metadata": {},
   "outputs": [],
   "source": [
    "## je crée une fonction intermédiaire\n",
    "#fonction qui complète un \"résultat conditionnelle\" (espérence ou résultat) de profondeurs\n",
    "#à partir des données d'observations pour obtenir un vecteur à N coordonnées\n",
    "\n",
    "def complete_profondeur(Liste):\n",
    "    L=[]\n",
    "    for j in Liste:\n",
    "        L.append(j)\n",
    "    for i in range(len(observation_indexes)):\n",
    "        L.insert(observation_indexes[i],depth[i])\n",
    "    return L"
   ]
  },
  {
   "cell_type": "code",
   "execution_count": 52,
   "metadata": {},
   "outputs": [
    {
     "data": {
      "image/png": "[encoded data removed]",
      "text/plain": [
       "<Figure size 432x288 with 1 Axes>"
      ]
     },
     "metadata": {
      "needs_background": "light"
     },
     "output_type": "display_data"
    }
   ],
   "source": [
    "###réalisation du tracé:\n",
    "plt.xlabel(\"Position suivant x\")\n",
    "plt.ylabel(\"Profondeur\")\n",
    "plt.title(\"Résultat espérance conditionnelle\")\n",
    "plt.scatter(discretization,complete_profondeur(esp_cond),color='b',linewidth=\"0.1\",\n",
    "            label=' résultats espérances conditionnelles')\n",
    "plt.scatter(np.asarray(observation_indexes)*5,depth,color='r',linewidth=\"0.1\",label='observations')\n",
    "plt.legend()\n",
    "plt.show()"
   ]
  },
  {
   "cell_type": "code",
   "execution_count": 53,
   "metadata": {},
   "outputs": [
    {
     "data": {
      "image/png": "[encoded data removed]",
      "text/plain": [
       "<Figure size 432x288 with 1 Axes>"
      ]
     },
     "metadata": {
      "needs_background": "light"
     },
     "output_type": "display_data"
    }
   ],
   "source": [
    "###Question 6###\n",
    "#on calcule la matrice de Covariance conditionnelle avec la formile du cours proba 4\n",
    "\n",
    "Cov_cond = Cov_unknow-np.dot(np.dot(Cov_obs_unknown,Cov_obs_inv),np.transpose(Cov_obs_unknown))\n",
    "V=[]\n",
    "for i in range(N-k):\n",
    "    V.append(Cov_cond[i][i])\n",
    "plt.scatter(np.asarray(unknown_indexes)*5,V)\n",
    "plt.xlabel(\"position suivant x\")\n",
    "plt.ylabel(\"Valeurs de la diagonale de la matrice de covariance conditionnelle\")\n",
    "plt.show()\n"
   ]
  },
  {
   "cell_type": "markdown",
   "metadata": {},
   "source": [
    "On remarque que plus l'abscisse x est éloignée d'un point d'observations, plus la covariance conditionelle de la variable aléatoire associé à un point est élevée. Ce qui est logique car on a \"de moins en moins d'informations\" quand on s'éloigne d'une profondeur observée.\n",
    "De plus, les termes sont bien positifs car les termes de la diagonale correspondent à la variance des variables aléatoire associé à la profondeur des différentes abscisses.\n"
   ]
  },
  {
   "cell_type": "code",
   "execution_count": 18,
   "metadata": {},
   "outputs": [
    {
     "data": {
      "image/png": "[encoded data removed]",
      "text/plain": [
       "<Figure size 432x288 with 1 Axes>"
      ]
     },
     "metadata": {
      "needs_background": "light"
     },
     "output_type": "display_data"
    }
   ],
   "source": [
    "###Question 7###\n",
    "#On réalise une simulation conditionnelle comme expliqué question théorique n°4\n",
    "\n",
    "#on arrondie les valeurs dans la matrice car sinon il y'a un soucis de représentation des flottants\n",
    "H=np.around(Cov_cond,6)\n",
    "\n",
    "L=np.linalg.cholesky(H) #on applique la décompostion de cholesky à la matrice\n",
    "#nous avons fait composer deux fois par - car la décomposition est pour les matrices définies positives\n",
    "\n",
    "X=[]\n",
    "Z=[]\n",
    "for u in range(N-k):\n",
    "    X.append(np.sqrt(-2*np.log(rd.random()))*np.cos(2*np.pi*rd.random()))#loi normale centrée réduite\n",
    "Z=esp_cond+np.dot(L,X) #Z est le résultat d'une simulation conditionnelle\n",
    "\n",
    "#On fait le tracé demandé:\n",
    "plt.xlabel(\"Position suivant x\")\n",
    "plt.ylabel(\"Profondeur\")\n",
    "plt.title(\"résultat simulation et espérance conditionnelle\")\n",
    "plt.scatter(discretization,complete_profondeur(esp_cond),color='b',linewidth=\"0.1\",\n",
    "            label=' résultats espérances conditionnelles')\n",
    "\n",
    "plt.scatter(discretization,complete_profondeur(Z),color='g',linewidth=\"0.1\",\n",
    "            label=' résultats simulation conditionnelle')\n",
    "plt.scatter(np.asarray(observation_indexes)*5,depth,color='r',linewidth=\"0.1\",label='observations')\n",
    "plt.legend()\n",
    "plt.show()\n"
   ]
  },
  {
   "cell_type": "code",
   "execution_count": 19,
   "metadata": {},
   "outputs": [],
   "source": [
    "###Question 8###\n",
    "#on crée une fonction qui calcule la longeur de câble:\n",
    "\n",
    "\n",
    "def longueur_cable(Liste_prof, pas):\n",
    "    S=0\n",
    "    for i in range(len(Liste_prof)-1):\n",
    "        S+= math.sqrt(pas**2 + (Liste_prof[i+1]-Liste_prof[i])**2)\n",
    "    return S\n"
   ]
  },
  {
   "cell_type": "code",
   "execution_count": 20,
   "metadata": {},
   "outputs": [],
   "source": [
    "###Question 9##\n",
    "#Pour faciliter le travail et la relecture,\n",
    "#on va créer une fonction qui prend un nombre n de simulations à réaliser,\n",
    "#et renvoie les réponses aux différentes questions 9,10,11\n",
    "\n",
    "def simulation(n):\n",
    "    Résultats=[]\n",
    "    for j in range(n):\n",
    "        X=[]\n",
    "        Z=[]\n",
    "        for u in range(N-k):\n",
    "            X.append(np.sqrt(-2*np.log(rd.random()))*np.cos(2*np.pi*rd.random()))\n",
    "        Z=esp_cond+np.dot(L,X)\n",
    "        Résultats.append(Z)\n",
    "\n",
    "    ### Pour la question 9 ###\n",
    "    #On calcule la moyenne des longeurs de câble pour les n simulations:\n",
    "    Moy_longueur=0\n",
    "    for i in Résultats:\n",
    "        Moy_longueur+=longueur_cable(complete_profondeur(i),5)#on complete avec toutes les profondeurs et on calcule la longueur\n",
    "    Moy_longueur=Moy_longueur/n\n",
    "    \n",
    "    \n",
    "    #### Pour la question 10###\n",
    "    #On va réprésenter la suite Mn des moyennnes des longueurs de câbles:\n",
    "\n",
    "    M_n=[]\n",
    "    N_values=[]\n",
    "    Tot_longueur=0\n",
    "    Moy_longueur=0\n",
    "    for r in range(len(Résultats)):\n",
    "        N_values.append(r+1)\n",
    "        Tot_longueur+=longueur_cable(complete_profondeur(Résultats[r]),5)#on complete avec toutes les profondeurs et on calcule la longueur\n",
    "        Moy_longueur=Tot_longueur/(r+1)\n",
    "        M_n.append(Moy_longueur)\n",
    "        \n",
    "        \n",
    "    ### Pour la question 11###\n",
    "    #On va réaliser un histogramme des longeurs pour les 100 simulations précédentes:\n",
    "    Tot_cordes = []\n",
    "    for i in Résultats:\n",
    "        Tot_cordes.append(longueur_cable(complete_profondeur(i),5))\n",
    "        \n",
    "        \n",
    "    return [Résultats, Moy_longueur,M_n, N_values, Tot_cordes]\n",
    "\n",
    "\n",
    "\n",
    "   \n",
    "    \n",
    "\n"
   ]
  },
  {
   "cell_type": "code",
   "execution_count": 21,
   "metadata": {},
   "outputs": [],
   "source": [
    "### Pour 100 simulations:\n",
    "\n",
    "Résultats_100_Sim=simulation(100)"
   ]
  },
  {
   "cell_type": "code",
   "execution_count": 22,
   "metadata": {},
   "outputs": [
    {
     "name": "stdout",
     "output_type": "stream",
     "text": [
      "La moyenne des longueurs pour 100 simulations vaut 522.2447022198389\n",
      "La longueur de l'espérance conditionnelle vaut 501.6468416918411\n"
     ]
    }
   ],
   "source": [
    "###Réponse question 9###\n",
    "\n",
    "Moy_longueur_100_Sim=Résultats_100_Sim[1]\n",
    "\n",
    "\n",
    "print(f'La moyenne des longueurs pour 100 simulations vaut {Moy_longueur_100_Sim}')\n",
    "print(f\"La longueur de l'espérance conditionnelle vaut {longueur_cable(complete_profondeur(esp_cond),5)}\")\n",
    "   \n",
    "\n",
    "\n",
    "\n",
    "    "
   ]
  },
  {
   "cell_type": "markdown",
   "metadata": {},
   "source": [
    "On remarque que l'espérance conditionnelle estimée n'est pas égale à la longueur de l'espérance conditionnelle de câble. On peut expliquer cela car la longueur de corde n'est pas directement proportionnelle à la profondeur. ALors même si les profondeurs estimées tendent vers l'espérence conditionnelle des profondeurs, ce n'est pas le cas pour les longueurs de câble."
   ]
  },
  {
   "cell_type": "code",
   "execution_count": 23,
   "metadata": {},
   "outputs": [
    {
     "data": {
      "image/png": "[encoded data removed]",
      "text/plain": [
       "<Figure size 432x288 with 1 Axes>"
      ]
     },
     "metadata": {
      "needs_background": "light"
     },
     "output_type": "display_data"
    }
   ],
   "source": [
    "###Réponse question 10###\n",
    "\n",
    "Suite_M_n_100_Sim=Résultats_100_Sim[2]\n",
    "\n",
    "Valeur_de_n_100_Sim=Résultats_100_Sim[3]\n",
    "\n",
    "\n",
    "plt.scatter(Valeur_de_n_100_Sim,Suite_M_n_100_Sim)\n",
    "plt.xlabel(\"Valeur de n\")\n",
    "plt.ylabel('Valeur de la longueur moyenne de câble')\n",
    "plt.show()"
   ]
  },
  {
   "cell_type": "markdown",
   "metadata": {},
   "source": [
    "Le résultat semble converger vers une valeur situé entre 522,2 et 522,7 m pour la longueur de câble, il est difficile d'avoir une précision supplémentaire."
   ]
  },
  {
   "cell_type": "code",
   "execution_count": 25,
   "metadata": {},
   "outputs": [
    {
     "data": {
      "image/png": "[encoded data removed]",
      "text/plain": [
       "<Figure size 432x288 with 1 Axes>"
      ]
     },
     "metadata": {
      "needs_background": "light"
     },
     "output_type": "display_data"
    }
   ],
   "source": [
    "###Réponse question 11###\n",
    "##On trace l'histogramme souhaité:\n",
    "\n",
    "Longueurs_des_cables_100_Sim=Résultats_100_Sim[4]\n",
    "\n",
    "plt.hist(Longueurs_des_cables_100_Sim, range = (515, 530), bins = 15, color = 'blue',\n",
    "            edgecolor = 'black')\n",
    "plt.xlabel('longueur de câble')\n",
    "plt.ylabel('nombres de câble')\n",
    "plt.title('Histogramme des longueurs')\n",
    "plt.show()"
   ]
  },
  {
   "cell_type": "markdown",
   "metadata": {},
   "source": [
    "### Question 12: Méthode 1\n",
    "\n",
    "On souhaite donner un intervalle de confiance à 95% de la longueur du câble.\n",
    "\n",
    "On utilise l'inégalité de Bienaymé-Tchebychev.\n",
    "L'intervalle de confiance à 95% correspond à:\n",
    "\n",
    "$P(|X-E(X)|\\ge \\alpha) \\le \\frac{\\sigma^2}{\\alpha^2}=\\frac{5}{100}$\n",
    "\n",
    "En inversant la formule, on trouve que:\n",
    "\n",
    "$L_{0,025}=\\mu -\\sqrt{\\frac{100}{5}}\\sigma$ et $L_{0,975}=\\mu +\\sqrt{\\frac{100}{5}}\\sigma$\n",
    "\n",
    "On estime à nouveau l'espérence et l'écart-type à partir des données de la simulation"
   ]
  },
  {
   "cell_type": "code",
   "execution_count": 26,
   "metadata": {},
   "outputs": [],
   "source": [
    "def calcul_ecart_type(Longueurs_cordes,moy):\n",
    "    Var=0\n",
    "    for i in Longueurs_cordes:\n",
    "        Var+=(i-moy)**2\n",
    "    \n",
    "    return math.sqrt(Var/len(Longueurs_cordes))\n",
    "\n",
    "Ecart_type_100_Sim=calcul_ecart_type(Longueurs_des_cables_100_Sim, Moy_longueur_100_Sim )"
   ]
  },
  {
   "cell_type": "code",
   "execution_count": 27,
   "metadata": {},
   "outputs": [
    {
     "name": "stdout",
     "output_type": "stream",
     "text": [
      "L'intervalle de confiance à 95% est estimé à [509.3879968104544,535.1014076292234]\n"
     ]
    }
   ],
   "source": [
    "Borne_inf_100_Sim = Moy_longueur_100_Sim -math.sqrt(20)*Ecart_type_100_Sim\n",
    "Borne_sup_100_Sim = Moy_longueur_100_Sim +math.sqrt(20)*Ecart_type_100_Sim\n",
    "\n",
    "\n",
    "print(f\"L'intervalle de confiance à 95% est estimé à [{Borne_inf_100_Sim},{Borne_sup_100_Sim}]\")"
   ]
  },
  {
   "cell_type": "markdown",
   "metadata": {},
   "source": [
    "### Question 12: Méthode 2\n",
    "\n",
    "On peut aller plus loin et fair el'hypothèse que:\n",
    "Considérant la distribution des longueurs des cordes obtenues pour 100 simulations, on peut approximer la variable aléatoire associé à la longueur des cordes comme suivant une loi normale, dont la moyenne a été calculée à la question 9 et dont on peut estimer la variance à l'aide des 100 simulations, puis l'écart-type\n",
    "Puis, pour une loi Normale, on trouve les deux de l'intervalle de confiance à 95 % grâce à la formule:\n",
    "\n",
    "\n",
    "$L_{0,025}=\\mu -1,96\\sigma$ et $L_{0,975}=\\mu +1,96\\sigma$\n"
   ]
  },
  {
   "cell_type": "code",
   "execution_count": 28,
   "metadata": {},
   "outputs": [
    {
     "name": "stdout",
     "output_type": "stream",
     "text": [
      "L'intervalle de confiance à 95% est estimé à [516.6100026364726,527.8794018032053]\n"
     ]
    }
   ],
   "source": [
    "Borne_inf_100_Sim = Moy_longueur_100_Sim -1.96*Ecart_type_100_Sim\n",
    "Borne_sup_100_Sim = Moy_longueur_100_Sim +1.96*Ecart_type_100_Sim\n",
    "\n",
    "\n",
    "print(f\"L'intervalle de confiance à 95% est estimé à [{Borne_inf_100_Sim},{Borne_sup_100_Sim}]\")"
   ]
  },
  {
   "cell_type": "markdown",
   "metadata": {},
   "source": [
    "Rmq:La deuxième méthode est plus précise mais suppose des hypotèses plus fores, qui seront mieux vérifiés avec un nombre plus grand de simulation."
   ]
  },
  {
   "cell_type": "code",
   "execution_count": 32,
   "metadata": {},
   "outputs": [
    {
     "name": "stdout",
     "output_type": "stream",
     "text": [
      "La probabilité que la longueur de câble dépasse 525 vaut approximativement 0.15,\n",
      "Nous avons fait un arrondi au centième\n",
      "Mais après plusieurs simulations, on obtient un résultat qui varie autour de 0,2\n",
      "Plus de simulations permet de faire converger le calcul de cette probabilité, et des autres calculs\n"
     ]
    }
   ],
   "source": [
    "###Question 13###\n",
    "#pour estimer la probabilité que la longueur du câble dépasse 525m, on fait beaucoup de simulations (50 000)\n",
    "#et on approxime la probabilité par le calcul de type(nbre de cas favorable/nombre de simulations)\n",
    "def calcul_proba(liste_cables):\n",
    "    Nbre_cas_fav=0\n",
    "    for i in liste_cables:\n",
    "        if i>525:\n",
    "            Nbre_cas_fav+=1\n",
    "    return Nbre_cas_fav/len(liste_cables)\n",
    "    \n",
    "print(f'''La probabilité que la longueur de câble dépasse 525 vaut approximativement {calcul_proba(Longueurs_des_cables_100_Sim):.2f},\n",
    "Nous avons fait un arrondi au centième\n",
    "Mais après plusieurs simulations, on obtient un résultat qui varie autour de 0,2\n",
    "Plus de simulations permet de faire converger le calcul de cette probabilité, et des autres calculs''')\n",
    "        "
   ]
  },
  {
   "cell_type": "markdown",
   "metadata": {},
   "source": [
    "### Question 14"
   ]
  },
  {
   "cell_type": "markdown",
   "metadata": {},
   "source": [
    "# Pour 1000,10000 et 100000 simulations"
   ]
  },
  {
   "cell_type": "code",
   "execution_count": 33,
   "metadata": {},
   "outputs": [],
   "source": [
    "#Pour 1000 simulations\n",
    "\n",
    "Résultats_1000_Sim=simulation(1000)\n",
    "\n",
    "Moy_longueur_1000_Sim=Résultats_1000_Sim[1]\n",
    "Suite_M_n_1000_Sim=Résultats_1000_Sim[2]\n",
    "Valeur_de_n_1000_Sim=Résultats_1000_Sim[3]\n",
    "Longueurs_des_cables_1000_Sim=Résultats_1000_Sim[4]\n",
    "\n",
    "\n",
    "\n",
    "Ecart_type_1000_Sim=calcul_ecart_type(Longueurs_des_cables_1000_Sim, Moy_longueur_1000_Sim)\n",
    "\n",
    "Borne_inf_1000_Sim_1 = Moy_longueur_1000_Sim -math.sqrt(20)*Ecart_type_1000_Sim\n",
    "Borne_sup_1000_Sim_1 = Moy_longueur_1000_Sim +math.sqrt(20)*Ecart_type_1000_Sim\n",
    "\n",
    "\n",
    "\n",
    "Borne_inf_1000_Sim_2 = Moy_longueur_1000_Sim -1.96*Ecart_type_1000_Sim\n",
    "Borne_sup_1000_Sim_2 = Moy_longueur_1000_Sim +1.96*Ecart_type_1000_Sim"
   ]
  },
  {
   "cell_type": "code",
   "execution_count": 35,
   "metadata": {},
   "outputs": [],
   "source": [
    "#Pour 10000 simulations\n",
    "\n",
    "Résultats_10000_Sim=simulation(10000)\n",
    "\n",
    "Moy_longueur_10000_Sim=Résultats_10000_Sim[1]\n",
    "Suite_M_n_10000_Sim=Résultats_10000_Sim[2]\n",
    "Valeur_de_n_10000_Sim=Résultats_10000_Sim[3]\n",
    "Longueurs_des_cables_10000_Sim=Résultats_10000_Sim[4]\n",
    "\n",
    "\n",
    "\n",
    "Ecart_type_10000_Sim=calcul_ecart_type(Longueurs_des_cables_10000_Sim, Moy_longueur_10000_Sim)\n",
    "\n",
    "Borne_inf_10000_Sim_1 = Moy_longueur_10000_Sim -math.sqrt(20)*Ecart_type_10000_Sim\n",
    "Borne_sup_10000_Sim_1 = Moy_longueur_10000_Sim +math.sqrt(20)*Ecart_type_10000_Sim\n",
    "\n",
    "\n",
    "\n",
    "Borne_inf_10000_Sim_2 = Moy_longueur_10000_Sim -1.96*Ecart_type_10000_Sim\n",
    "Borne_sup_10000_Sim_2 = Moy_longueur_10000_Sim +1.96*Ecart_type_10000_Sim"
   ]
  },
  {
   "cell_type": "code",
   "execution_count": 36,
   "metadata": {},
   "outputs": [],
   "source": [
    "#Pour 100000 simulations\n",
    "\n",
    "Résultats_100000_Sim=simulation(100000)\n",
    "\n",
    "Moy_longueur_100000_Sim=Résultats_100000_Sim[1]\n",
    "Suite_M_n_100000_Sim=Résultats_100000_Sim[2]\n",
    "Valeur_de_n_100000_Sim=Résultats_100000_Sim[3]\n",
    "Longueurs_des_cables_100000_Sim=Résultats_100000_Sim[4]\n",
    "\n",
    "\n",
    "\n",
    "Ecart_type_100000_Sim=calcul_ecart_type(Longueurs_des_cables_100000_Sim, Moy_longueur_100000_Sim)\n",
    "\n",
    "Borne_inf_100000_Sim_1 = Moy_longueur_100000_Sim -math.sqrt(20)*Ecart_type_100000_Sim\n",
    "Borne_sup_100000_Sim_1 = Moy_longueur_100000_Sim +math.sqrt(20)*Ecart_type_100000_Sim\n",
    "\n",
    "\n",
    "\n",
    "Borne_inf_100000_Sim_2 = Moy_longueur_100000_Sim -1.96*Ecart_type_100000_Sim\n",
    "Borne_sup_100000_Sim_2 = Moy_longueur_100000_Sim +1.96*Ecart_type_100000_Sim"
   ]
  },
  {
   "cell_type": "code",
   "execution_count": 37,
   "metadata": {},
   "outputs": [
    {
     "name": "stdout",
     "output_type": "stream",
     "text": [
      "522.4420945253025\n"
     ]
    },
    {
     "data": {
      "image/png": "[encoded data removed]",
      "text/plain": [
       "<Figure size 1332x756 with 6 Axes>"
      ]
     },
     "metadata": {
      "needs_background": "light"
     },
     "output_type": "display_data"
    }
   ],
   "source": [
    "###Les tracés:\n",
    "fig, axes = plt.subplots(2, 3)\n",
    "fig.suptitle('Tracés réponses',fontsize=40)\n",
    "fig.set_size_inches(18.5, 10.5, forward=True)\n",
    "axes[0,0].scatter(Valeur_de_n_1000_Sim, Suite_M_n_1000_Sim,linewidth=0.1)\n",
    "axes[0,1].scatter(Valeur_de_n_10000_Sim, Suite_M_n_10000_Sim,linewidth=0.1)\n",
    "axes[0,2].scatter(Valeur_de_n_100000_Sim, Suite_M_n_100000_Sim,linewidth=0.1)\n",
    "axes[1,0].hist(Longueurs_des_cables_1000_Sim, range = (515, 530), bins = 20, color = 'blue',\n",
    "            edgecolor = 'black')\n",
    "axes[1,1].hist(Longueurs_des_cables_10000_Sim, range = (515, 530), bins = 20, color = 'blue',\n",
    "            edgecolor = 'black')\n",
    "axes[1,2].hist(Longueurs_des_cables_10000_Sim, range = (515, 530), bins = 20, color = 'blue',\n",
    "            edgecolor = 'black')\n",
    "axes[1,0].set_title(f'1000 simulations',fontsize=20)\n",
    "axes[1,1].set_title(f'10000 simulations',fontsize=20)\n",
    "axes[1,2].set_title(f'100000 simulations',fontsize=20)\n",
    "\n",
    "axes[1,0].set_title(f'1000 simulations',fontsize=20)\n",
    "axes[1,1].set_title(f'10000 simulations',fontsize=20)\n",
    "axes[1,2].set_title(f'100000 simulations',fontsize=20)\n",
    "\n",
    "print(Suite_M_n_100000_Sim[99999])"
   ]
  },
  {
   "cell_type": "code",
   "execution_count": 38,
   "metadata": {},
   "outputs": [
    {
     "name": "stdout",
     "output_type": "stream",
     "text": [
      "La moyenne des longueurs pour 1000 simulations vaut 522.5863399702359\n",
      "La moyenne des longueurs pour 10000 simulations vaut 522.3990404625532\n",
      "La moyenne des longueurs pour 100000 simulations vaut 522.4420945253025\n"
     ]
    }
   ],
   "source": [
    "print(f'La moyenne des longueurs pour 1000 simulations vaut {Moy_longueur_1000_Sim}')\n",
    "print(f'La moyenne des longueurs pour 10000 simulations vaut {Moy_longueur_10000_Sim}')\n",
    "print(f'La moyenne des longueurs pour 100000 simulations vaut {Moy_longueur_100000_Sim}')"
   ]
  },
  {
   "cell_type": "code",
   "execution_count": 39,
   "metadata": {},
   "outputs": [
    {
     "name": "stdout",
     "output_type": "stream",
     "text": [
      "L'intervalle de confiance à 95% est estimé à [509.14572947719375,536.0269504632781]\n",
      "par la méthode 1 avec 1000 simulations\n",
      "L'intervalle de confiance à 95% est estimé à [509.3550781829317,535.4430027421747]\n",
      "par la méthode 1 avec 10000 simulations\n",
      "L'intervalle de confiance à 95% est estimé à [509.51486992091,535.3693191296951]\n",
      "par la méthode 1 avec 10000 simulations\n"
     ]
    }
   ],
   "source": [
    "print(f\"L'intervalle de confiance à 95% est estimé à [{Borne_inf_1000_Sim_1},{Borne_sup_1000_Sim_1}]\\npar la méthode 1 avec 1000 simulations\")\n",
    "print(f\"L'intervalle de confiance à 95% est estimé à [{Borne_inf_10000_Sim_1},{Borne_sup_10000_Sim_1}]\\npar la méthode 1 avec 10000 simulations\")\n",
    "print(f\"L'intervalle de confiance à 95% est estimé à [{Borne_inf_100000_Sim_1},{Borne_sup_100000_Sim_1}]\\npar la méthode 1 avec 10000 simulations\")"
   ]
  },
  {
   "cell_type": "code",
   "execution_count": 40,
   "metadata": {},
   "outputs": [
    {
     "name": "stdout",
     "output_type": "stream",
     "text": [
      "L'intervalle de confiance à 95% est estimé à [516.6957327008142,528.4769472396576]\n",
      "par la méthode 2 avec 1000 simulations\n",
      "L'intervalle de confiance à 95% est estimé à [516.6822719373306,528.1158089877758]\n",
      "par la méthode 2 avec 10000 simulations\n",
      "L'intervalle de confiance à 95% est estimé à [516.7764885420399,528.1077005085651]\n",
      "par la méthode 2 avec 10000 simulations\n"
     ]
    }
   ],
   "source": [
    "print(f\"L'intervalle de confiance à 95% est estimé à [{Borne_inf_1000_Sim_2},{Borne_sup_1000_Sim_2}]\\npar la méthode 2 avec 1000 simulations\")\n",
    "print(f\"L'intervalle de confiance à 95% est estimé à [{Borne_inf_10000_Sim_2},{Borne_sup_10000_Sim_2}]\\npar la méthode 2 avec 10000 simulations\")\n",
    "print(f\"L'intervalle de confiance à 95% est estimé à [{Borne_inf_100000_Sim_2},{Borne_sup_100000_Sim_2}]\\npar la méthode 2 avec 10000 simulations\")\n"
   ]
  },
  {
   "cell_type": "code",
   "execution_count": 41,
   "metadata": {},
   "outputs": [
    {
     "name": "stdout",
     "output_type": "stream",
     "text": [
      "Avec 1000 simulations,\n",
      "la probabilité que la longueur de câble dépasse 525 vaut approximativement 0.218\n",
      "Avec 10000 simulations,\n",
      "la probabilité que la longueur de câble dépasse 525 vaut approximativement 0.1856\n",
      "Avec 100000 simulations,\n",
      "la probabilité que la longueur de câble dépasse 525 vaut approximativement 0.18637\n"
     ]
    }
   ],
   "source": [
    "print(f'''Avec 1000 simulations,\n",
    "la probabilité que la longueur de câble dépasse 525 vaut approximativement {calcul_proba(Longueurs_des_cables_1000_Sim)}''')\n",
    "\n",
    "print(f'''Avec 10000 simulations,\n",
    "la probabilité que la longueur de câble dépasse 525 vaut approximativement {calcul_proba(Longueurs_des_cables_10000_Sim)}''')\n",
    "\n",
    "print(f'''Avec 100000 simulations,\n",
    "la probabilité que la longueur de câble dépasse 525 vaut approximativement {calcul_proba(Longueurs_des_cables_100000_Sim)}''')"
   ]
  },
  {
   "cell_type": "markdown",
   "metadata": {},
   "source": [
    "## Conclusion:\n",
    "\n",
    "Plus on a un grand nombre de simulation, plus on va tendre vers un loi gausienne, d'espérence 522,4 m.\n",
    "Cette convergence vers la loi gausienne permet de valider l'hypothèse prise dans le calcul de l'intervalle de confiance à 95%.\n",
    "Pour chaque calcul de la question 9 à 13, on remarque surtout que les valeurs obtenues sont très proches lorsqu'on repète le processus de simulation, ce qui confirme la convergence.\n",
    "\n",
    "<p>\n",
    "-Pour la suite M_n, on remarque que pour un grand nombre de simulation, elle converge vers 522,4 m. De plus, on est proche de ce résultat même si on répète de nombreuses fois le processus de simulation.<p>\n",
    "<p> \n",
    "-De meme, pour les valeurs de bornes à 95%, on converge vers l'intervalle [517,528] <p>\n",
    "    \n",
    "<p> \n",
    "-De meme, pour la probabiloté que le câble dépasse 525m, on converge vers un valeur de 0,185 <p>\n",
    "\n",
    "\n"
   ]
  }
 ],
 "metadata": {
  "kernelspec": {
   "display_name": "Python 3",
   "language": "python",
   "name": "python3"
  },
  "language_info": {
   "codemirror_mode": {
    "name": "ipython",
    "version": 3
   },
   "file_extension": ".py",
   "mimetype": "text/x-python",
   "name": "python",
   "nbconvert_exporter": "python",
   "pygments_lexer": "ipython3",
   "version": "3.7.3"
  }
 },
 "nbformat": 4,
 "nbformat_minor": 2
}
